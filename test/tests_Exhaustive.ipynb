{
 "cells": [
  {
   "cell_type": "markdown",
   "metadata": {},
   "source": [
    "<h1 style=\"background-color: gray;\n",
    "           color: black;\n",
    "           padding: 20px;\n",
    "           text-align: center;\">INFO</h1>\n",
    "\n",
    "In this script, we create a class that will structure the unit tests for the `DFS` player. \\\n",
    "We choose to use the `unittest` library. \\\n",
    "Then, we run them to ensure that all methods developed work as expected."
   ]
  },
  {
   "cell_type": "markdown",
   "metadata": {},
   "source": [
    "<h1 style=\"background-color: gray;\n",
    "           color: black;\n",
    "           padding: 20px;\n",
    "           text-align: center;\">IMPORTS</h1>"
   ]
  },
  {
   "cell_type": "code",
   "execution_count": 1,
   "metadata": {},
   "outputs": [],
   "source": [
    "# External imports\n",
    "from typing import *\n",
    "from typing_extensions import *\n",
    "from numbers import *\n",
    "import unittest\n",
    "import sys\n",
    "import os\n",
    "import random\n",
    "\n",
    "# Add needed directories to the path\n",
    "sys.path.append(os.path.join(\"..\", \"players\"))\n",
    "\n",
    "# PyRat imports\n",
    "from Exhaustive import Exhaustive\n",
    "from pyrat import BigHolesRandomMaze, Action"
   ]
  },
  {
   "cell_type": "markdown",
   "metadata": {},
   "source": [
    "<h1 style=\"background-color: gray;\n",
    "           color: black;\n",
    "           padding: 20px;\n",
    "           text-align: center;\">DEFINE THE TESTS</h1>\n",
    "\n",
    "The `unittest` library requires the creation of a class that extends `unittest.TestCase`. \\\n",
    "For each method to test, we need to define a method in the test class. \\\n",
    "Each of these test methods should call the tested method with various inputs to check that produced outputs match expected ones."
   ]
  },
  {
   "cell_type": "code",
   "execution_count": 2,
   "metadata": {},
   "outputs": [],
   "source": [
    "class Exhaustivetest (unittest.TestCase):\n",
    "\n",
    "    \"\"\"\n",
    "        This class tests the methods of the DFS class.\n",
    "        For each method, we test it with a few different configurations.\n",
    "    \"\"\"\n",
    "\n",
    "    #############################################################################################################################################\n",
    "    #                                                                 UNIT TESTS                                                                #\n",
    "    #############################################################################################################################################\n",
    "\n",
    "    "
   ]
  },
  {
   "cell_type": "markdown",
   "metadata": {},
   "source": [
    "<h1 style=\"background-color: gray;\n",
    "           color: black;\n",
    "           padding: 20px;\n",
    "           text-align: center;\">RUN THE TESTS</h1>\n",
    "           \n",
    "When calling `unittest.main()`, all methods in the test class above will be run."
   ]
  },
  {
   "cell_type": "code",
   "execution_count": 3,
   "metadata": {},
   "outputs": [
    {
     "name": "stderr",
     "output_type": "stream",
     "text": [
      "\n",
      "----------------------------------------------------------------------\n",
      "Ran 0 tests in 0.000s\n",
      "\n",
      "OK\n"
     ]
    }
   ],
   "source": [
    "# Run all tests\n",
    "_ = unittest.main(argv=[\"\"], verbosity=2, exit=False)\n",
    "\n"
   ]
  }
 ],
 "metadata": {
  "kernelspec": {
   "display_name": "Python 3",
   "language": "python",
   "name": "python3"
  },
  "language_info": {
   "codemirror_mode": {
    "name": "ipython",
    "version": 3
   },
   "file_extension": ".py",
   "mimetype": "text/x-python",
   "name": "python",
   "nbconvert_exporter": "python",
   "pygments_lexer": "ipython3",
   "version": "3.10.11"
  }
 },
 "nbformat": 4,
 "nbformat_minor": 2
}
