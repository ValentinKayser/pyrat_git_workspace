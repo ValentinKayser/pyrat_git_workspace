{
 "cells": [
  {
   "cell_type": "markdown",
   "metadata": {},
   "source": [
    "<h1 style=\"background-color: gray;\n",
    "           color: black;\n",
    "           padding: 20px;\n",
    "           text-align: center;\">INFO</h1>\n",
    "\n",
    "This script creates a sample game, in which two players compete in the maze."
   ]
  },
  {
   "cell_type": "markdown",
   "metadata": {},
   "source": [
    "<h1 style=\"background-color: gray;\n",
    "           color: black;\n",
    "           padding: 20px;\n",
    "           text-align: center;\">IMPORTS</h1>"
   ]
  },
  {
   "cell_type": "code",
   "execution_count": 5,
   "metadata": {},
   "outputs": [],
   "source": [
    "# External imports\n",
    "import sys\n",
    "import os\n",
    "import pprint\n",
    "\n",
    "# Add needed directories to the path\n",
    "sys.path.append(os.path.join(\"..\", \"players\"))\n",
    "\n",
    "# PyRat imports\n",
    "from pyrat import Game, PlayerSkin\n",
    "from Exhaustive import Exhaustive\n",
    "from Greedy import Greedy"
   ]
  },
  {
   "cell_type": "markdown",
   "metadata": {},
   "source": [
    "<h1 style=\"background-color: gray;\n",
    "           color: black;\n",
    "           padding: 20px;\n",
    "           text-align: center;\">CONSTANTS</h1>\n",
    "\n",
    "Let's configure the game with a dictionary."
   ]
  },
  {
   "cell_type": "code",
   "execution_count": 6,
   "metadata": {},
   "outputs": [],
   "source": [
    "# Customize the game elements\n",
    "CONFIG = {\"mud_percentage\": 20.0,\n",
    "          \"cell_percentage\": 80.0,\n",
    "          \"wall_percentage\": 60.0,\n",
    "          \"maze_width\": 25,\n",
    "          \"maze_height\": 20,\n",
    "          \"nb_cheese\": 5,\n",
    "          \"trace_length\": 50}"
   ]
  },
  {
   "cell_type": "markdown",
   "metadata": {},
   "source": [
    "<h1 style=\"background-color: gray;\n",
    "           color: black;\n",
    "           padding: 20px;\n",
    "           text-align: center;\">RUN THE GAME</h1>"
   ]
  },
  {
   "cell_type": "markdown",
   "metadata": {},
   "source": [
    "We perform a single game with the configuration defined above."
   ]
  },
  {
   "cell_type": "code",
   "execution_count": 7,
   "metadata": {},
   "outputs": [
    {
     "name": "stdout",
     "output_type": "stream",
     "text": [
      "Constructor\n",
      "Constructor\n",
      "joueur Exhaustive\n",
      "joueur Greedy\n"
     ]
    }
   ],
   "source": [
    "# Instantiate a game with specified arguments\n",
    "game = Game(**CONFIG)\n",
    "\n",
    "# Instantiate players in distinct teams\n",
    "player_1 = Exhaustive(skin=PlayerSkin.RAT)\n",
    "player_2 = Greedy(skin=PlayerSkin.PYTHON)\n",
    "game.add_player(player_1, \"Team Ratz\")\n",
    "game.add_player(player_2, \"Team Pythonz\")\n",
    "\n",
    "# Start the game\n",
    "stats = game.start()"
   ]
  },
  {
   "cell_type": "markdown",
   "metadata": {},
   "source": [
    "We visualize results using a pretty printer."
   ]
  },
  {
   "cell_type": "code",
   "execution_count": 8,
   "metadata": {},
   "outputs": [
    {
     "name": "stdout",
     "output_type": "stream",
     "text": [
      "{'players': {'Exhaustive': {'actions': {'east': 12,\n",
      "                                        'error': 0,\n",
      "                                        'miss': 11,\n",
      "                                        'mud': 8,\n",
      "                                        'north': 11,\n",
      "                                        'nothing': 2,\n",
      "                                        'south': 6,\n",
      "                                        'wall': 0,\n",
      "                                        'west': 3},\n",
      "                            'preprocessing_duration': 1.828125,\n",
      "                            'score': 3.0,\n",
      "                            'team': 'Team Ratz',\n",
      "                            'turn_durations': [0.0,\n",
      "                                               0.0,\n",
      "                                               0.0,\n",
      "                                               0.0,\n",
      "                                               0.0,\n",
      "                                               0.0,\n",
      "                                               0.0,\n",
      "                                               0.0,\n",
      "                                               0.0,\n",
      "                                               0.0,\n",
      "                                               0.0,\n",
      "                                               0.0,\n",
      "                                               0.0,\n",
      "                                               0.0,\n",
      "                                               0.0,\n",
      "                                               0.0,\n",
      "                                               0.0,\n",
      "                                               0.0,\n",
      "                                               0.0,\n",
      "                                               0.0,\n",
      "                                               0.0,\n",
      "                                               0.0,\n",
      "                                               0.0,\n",
      "                                               0.0,\n",
      "                                               0.0,\n",
      "                                               0.0,\n",
      "                                               0.0,\n",
      "                                               0.0,\n",
      "                                               0.0,\n",
      "                                               0.0,\n",
      "                                               0.0,\n",
      "                                               0.0,\n",
      "                                               0.0,\n",
      "                                               0.0]},\n",
      "             'Greedy': {'actions': {'east': 11,\n",
      "                                    'error': 0,\n",
      "                                    'miss': 12,\n",
      "                                    'mud': 8,\n",
      "                                    'north': 9,\n",
      "                                    'nothing': 2,\n",
      "                                    'south': 6,\n",
      "                                    'wall': 0,\n",
      "                                    'west': 5},\n",
      "                        'preprocessing_duration': 1.59375,\n",
      "                        'score': 1.0,\n",
      "                        'team': 'Team Pythonz',\n",
      "                        'turn_durations': [0.0,\n",
      "                                           0.0,\n",
      "                                           0.0,\n",
      "                                           0.0,\n",
      "                                           0.0,\n",
      "                                           0.0,\n",
      "                                           0.0,\n",
      "                                           0.0,\n",
      "                                           0.0,\n",
      "                                           0.0,\n",
      "                                           0.0,\n",
      "                                           0.0,\n",
      "                                           0.0,\n",
      "                                           0.0,\n",
      "                                           0.0,\n",
      "                                           0.0,\n",
      "                                           0.0,\n",
      "                                           0.0,\n",
      "                                           0.0,\n",
      "                                           0.0,\n",
      "                                           0.0,\n",
      "                                           0.0,\n",
      "                                           0.0,\n",
      "                                           0.0,\n",
      "                                           0.0,\n",
      "                                           0.0,\n",
      "                                           0.0,\n",
      "                                           0.0,\n",
      "                                           0.0,\n",
      "                                           0.0,\n",
      "                                           0.0,\n",
      "                                           0.0,\n",
      "                                           0.0]}},\n",
      " 'turns': 53}\n"
     ]
    }
   ],
   "source": [
    "# Show statistics\n",
    "pprint.pprint(stats)"
   ]
  }
 ],
 "metadata": {
  "kernelspec": {
   "display_name": "Python 3",
   "language": "python",
   "name": "python3"
  },
  "language_info": {
   "codemirror_mode": {
    "name": "ipython",
    "version": 3
   },
   "file_extension": ".py",
   "mimetype": "text/x-python",
   "name": "python",
   "nbconvert_exporter": "python",
   "pygments_lexer": "ipython3",
   "version": "3.10.11"
  }
 },
 "nbformat": 4,
 "nbformat_minor": 2
}
