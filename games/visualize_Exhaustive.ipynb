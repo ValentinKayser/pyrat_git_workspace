{
 "cells": [
  {
   "cell_type": "markdown",
   "metadata": {},
   "source": [
    "<h1 style=\"background-color: gray;\n",
    "           color: black;\n",
    "           padding: 20px;\n",
    "           text-align: center;\">INFO</h1>\n",
    "\n",
    "In this script, we run player `Exhaustive` in a maze, to visualize its behavior."
   ]
  },
  {
   "cell_type": "markdown",
   "metadata": {},
   "source": [
    "<h1 style=\"background-color: gray;\n",
    "           color: black;\n",
    "           padding: 20px;\n",
    "           text-align: center;\">IMPORTS</h1>"
   ]
  },
  {
   "cell_type": "code",
   "execution_count": 1,
   "metadata": {},
   "outputs": [],
   "source": [
    "# External imports\n",
    "import sys\n",
    "import os\n",
    "import pprint\n",
    "\n",
    "# Add needed directories to the path\n",
    "sys.path.append(os.path.join(\"..\", \"players\"))\n",
    "\n",
    "# PyRat imports\n",
    "from pyrat import Game, GameMode\n",
    "from Exhaustive import Exhaustive\n"
   ]
  },
  {
   "cell_type": "markdown",
   "metadata": {},
   "source": [
    "<h1 style=\"background-color: gray;\n",
    "           color: black;\n",
    "           padding: 20px;\n",
    "           text-align: center;\">CONSTANTS</h1>\n",
    "\n",
    "Let's configure the game with a dictionary."
   ]
  },
  {
   "cell_type": "code",
   "execution_count": null,
   "metadata": {},
   "outputs": [],
   "source": []
  },
  {
   "cell_type": "code",
   "execution_count": 2,
   "metadata": {},
   "outputs": [],
   "source": [
    "# Customize the game elements\n",
    "CONFIG = {\"mud_percentage\": 20.0,\n",
    "          \"nb_cheese\": 5,\n",
    "          \"random_seed\": 42,\n",
    "          \"trace_length\": 1000,\n",
    "          \"game_mode\":GameMode.SEQUENTIAL}\n"
   ]
  },
  {
   "cell_type": "markdown",
   "metadata": {},
   "source": [
    "<h1 style=\"background-color: gray;\n",
    "           color: black;\n",
    "           padding: 20px;\n",
    "           text-align: center;\">RUN THE GAME</h1>"
   ]
  },
  {
   "cell_type": "markdown",
   "metadata": {},
   "source": [
    "We perform a single game with the configuration defined above."
   ]
  },
  {
   "cell_type": "code",
   "execution_count": 3,
   "metadata": {},
   "outputs": [
    {
     "name": "stdout",
     "output_type": "stream",
     "text": [
      "Constructor\n",
      "Preprocessing\n",
      "Route: [97, 98, 99, 114, 129, 144, 159, 174, 189, 190, 191, 192, 177, 178, 178, 177, 192, 191, 190, 189, 174, 159, 158, 157, 156, 155, 154, 153, 153, 154, 155, 140, 139, 138, 123, 108, 93, 94, 79, 64, 65, 65, 64, 49, 34, 35, 36, 21, 22, 23, 38, 53, 53, 38, 23, 8, 9, 10, 25, 26, 11, 12, 13, 14, 29, 28]\n",
      "Computed Actions: [<Action.EAST: 'east'>, <Action.EAST: 'east'>, <Action.SOUTH: 'south'>, <Action.SOUTH: 'south'>, <Action.SOUTH: 'south'>, <Action.SOUTH: 'south'>, <Action.SOUTH: 'south'>, <Action.SOUTH: 'south'>, <Action.EAST: 'east'>, <Action.EAST: 'east'>, <Action.EAST: 'east'>, <Action.NORTH: 'north'>, <Action.EAST: 'east'>, <Action.NOTHING: 'nothing'>, <Action.WEST: 'west'>, <Action.SOUTH: 'south'>, <Action.WEST: 'west'>, <Action.WEST: 'west'>, <Action.WEST: 'west'>, <Action.NORTH: 'north'>, <Action.NORTH: 'north'>, <Action.WEST: 'west'>, <Action.WEST: 'west'>, <Action.WEST: 'west'>, <Action.WEST: 'west'>, <Action.WEST: 'west'>, <Action.WEST: 'west'>, <Action.NOTHING: 'nothing'>, <Action.EAST: 'east'>, <Action.EAST: 'east'>, <Action.NORTH: 'north'>, <Action.WEST: 'west'>, <Action.WEST: 'west'>, <Action.NORTH: 'north'>, <Action.NORTH: 'north'>, <Action.NORTH: 'north'>, <Action.EAST: 'east'>, <Action.NORTH: 'north'>, <Action.NORTH: 'north'>, <Action.EAST: 'east'>, <Action.NOTHING: 'nothing'>, <Action.WEST: 'west'>, <Action.NORTH: 'north'>, <Action.NORTH: 'north'>, <Action.EAST: 'east'>, <Action.EAST: 'east'>, <Action.NORTH: 'north'>, <Action.EAST: 'east'>, <Action.EAST: 'east'>, <Action.SOUTH: 'south'>, <Action.SOUTH: 'south'>, <Action.NOTHING: 'nothing'>, <Action.NORTH: 'north'>, <Action.NORTH: 'north'>, <Action.NORTH: 'north'>, <Action.EAST: 'east'>, <Action.EAST: 'east'>, <Action.SOUTH: 'south'>, <Action.EAST: 'east'>, <Action.NORTH: 'north'>, <Action.EAST: 'east'>, <Action.EAST: 'east'>, <Action.EAST: 'east'>, <Action.SOUTH: 'south'>, <Action.WEST: 'west'>]\n",
      "Turn 1\n",
      "Turn 2\n",
      "Turn 3\n",
      "Turn 4\n",
      "Turn 5\n",
      "Turn 6\n",
      "Turn 7\n",
      "Turn 8\n",
      "Turn 9\n",
      "Turn 10\n",
      "Turn 11\n",
      "Turn 12\n",
      "Turn 13\n",
      "Turn 14\n",
      "Turn 15\n",
      "Turn 16\n",
      "Turn 17\n",
      "Turn 18\n",
      "Turn 19\n",
      "Turn 20\n",
      "Turn 21\n",
      "Turn 22\n",
      "Turn 27\n",
      "Turn 28\n",
      "Turn 29\n",
      "Turn 30\n",
      "Turn 31\n",
      "Turn 32\n",
      "Turn 33\n",
      "Turn 34\n",
      "Turn 35\n",
      "Turn 36\n",
      "Turn 37\n",
      "Turn 38\n",
      "Turn 39\n",
      "Turn 40\n",
      "Turn 41\n",
      "Turn 42\n",
      "Turn 43\n",
      "Turn 44\n",
      "Turn 45\n",
      "Turn 46\n",
      "Turn 47\n",
      "Turn 48\n",
      "Turn 49\n",
      "Turn 50\n",
      "Turn 51\n",
      "Turn 52\n",
      "Turn 53\n",
      "Turn 54\n",
      "Turn 55\n",
      "Turn 56\n",
      "Turn 57\n",
      "Turn 58\n",
      "Turn 59\n",
      "Turn 60\n",
      "Turn 61\n",
      "Turn 62\n",
      "Turn 63\n",
      "Turn 64\n",
      "Turn 65\n",
      "Turn 66\n",
      "Turn 75\n",
      "Turn 76\n",
      "Turn 77\n",
      "Postprocessing\n"
     ]
    }
   ],
   "source": [
    "\n",
    "game = Game(**CONFIG)\n",
    "\n",
    "# Instantiate a player and add it to the game\n",
    "player = Exhaustive()\n",
    "game.add_player(player)\n",
    "\n",
    "# Start the game and\n",
    "stats = game.start()"
   ]
  },
  {
   "cell_type": "markdown",
   "metadata": {},
   "source": [
    "We visualize results using a pretty printer."
   ]
  },
  {
   "cell_type": "code",
   "execution_count": 4,
   "metadata": {},
   "outputs": [
    {
     "name": "stdout",
     "output_type": "stream",
     "text": [
      "{'players': {'Exhaustive': {'actions': {'east': 20,\n",
      "                                        'error': 0,\n",
      "                                        'miss': 0,\n",
      "                                        'mud': 12,\n",
      "                                        'north': 16,\n",
      "                                        'nothing': 4,\n",
      "                                        'south': 11,\n",
      "                                        'wall': 0,\n",
      "                                        'west': 14},\n",
      "                            'preprocessing_duration': 0.109375,\n",
      "                            'score': 5.0,\n",
      "                            'team': '',\n",
      "                            'turn_durations': [0.0,\n",
      "                                               0.0,\n",
      "                                               0.0,\n",
      "                                               0.0,\n",
      "                                               0.0,\n",
      "                                               0.0,\n",
      "                                               0.0,\n",
      "                                               0.0,\n",
      "                                               0.0,\n",
      "                                               0.0,\n",
      "                                               0.0,\n",
      "                                               0.0,\n",
      "                                               0.0,\n",
      "                                               0.0,\n",
      "                                               0.0,\n",
      "                                               0.0,\n",
      "                                               0.0,\n",
      "                                               0.0,\n",
      "                                               0.0,\n",
      "                                               0.0,\n",
      "                                               0.0,\n",
      "                                               0.0,\n",
      "                                               0.0,\n",
      "                                               0.0,\n",
      "                                               0.0,\n",
      "                                               0.0,\n",
      "                                               0.0,\n",
      "                                               0.0,\n",
      "                                               0.0,\n",
      "                                               0.0,\n",
      "                                               0.0,\n",
      "                                               0.0,\n",
      "                                               0.0,\n",
      "                                               0.0,\n",
      "                                               0.0,\n",
      "                                               0.0,\n",
      "                                               0.0,\n",
      "                                               0.0,\n",
      "                                               0.0,\n",
      "                                               0.0,\n",
      "                                               0.0,\n",
      "                                               0.0,\n",
      "                                               0.0,\n",
      "                                               0.0,\n",
      "                                               0.0,\n",
      "                                               0.0,\n",
      "                                               0.0,\n",
      "                                               0.0,\n",
      "                                               0.0,\n",
      "                                               0.0,\n",
      "                                               0.0,\n",
      "                                               0.0,\n",
      "                                               0.0,\n",
      "                                               0.0,\n",
      "                                               0.0,\n",
      "                                               0.0,\n",
      "                                               0.0,\n",
      "                                               0.0,\n",
      "                                               0.0,\n",
      "                                               0.0,\n",
      "                                               0.0,\n",
      "                                               0.0,\n",
      "                                               0.0,\n",
      "                                               0.0,\n",
      "                                               0.0]}},\n",
      " 'turns': 77}\n"
     ]
    }
   ],
   "source": [
    "# Show statistics\n",
    "pprint.pprint(stats)\n",
    "\n"
   ]
  }
 ],
 "metadata": {
  "kernelspec": {
   "display_name": "Python 3",
   "language": "python",
   "name": "python3"
  },
  "language_info": {
   "codemirror_mode": {
    "name": "ipython",
    "version": 3
   },
   "file_extension": ".py",
   "mimetype": "text/x-python",
   "name": "python",
   "nbconvert_exporter": "python",
   "pygments_lexer": "ipython3",
   "version": "3.10.11"
  }
 },
 "nbformat": 4,
 "nbformat_minor": 2
}
